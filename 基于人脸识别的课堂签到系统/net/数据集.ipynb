{
 "cells": [
  {
   "cell_type": "code",
   "execution_count": 1,
   "id": "d636efb2-fffe-4d2e-8b1c-fdb0bd6d79dc",
   "metadata": {},
   "outputs": [],
   "source": [
    "import os\n",
    "import dlib\n",
    "import numpy as np\n",
    "import cv2\n",
    "data = open(\"/media/Nas/数据集/celebA（分卷形式,一起解压）/celebA/Anno/identity_CelebA.txt\").read().split(\"\\n\")\n",
    "data = [x.split() for x in data]"
   ]
  },
  {
   "cell_type": "code",
   "execution_count": 4,
   "id": "cd6092cf-6b76-460a-a98f-a59ca0633bd3",
   "metadata": {},
   "outputs": [
    {
     "name": "stderr",
     "output_type": "stream",
     "text": [
      "100%|█████████▉| 202599/202600 [02:51<00:00, 1180.49it/s]\n"
     ]
    },
    {
     "ename": "IndexError",
     "evalue": "list index out of range",
     "output_type": "error",
     "traceback": [
      "\u001b[0;31m---------------------------------------------------------------------------\u001b[0m",
      "\u001b[0;31mIndexError\u001b[0m                                Traceback (most recent call last)",
      "Cell \u001b[0;32mIn[4], line 4\u001b[0m\n\u001b[1;32m      2\u001b[0m error \u001b[38;5;241m=\u001b[39m \u001b[38;5;241m0\u001b[39m\n\u001b[1;32m      3\u001b[0m \u001b[38;5;28;01mfor\u001b[39;00m x \u001b[38;5;129;01min\u001b[39;00m tqdm\u001b[38;5;241m.\u001b[39mtqdm(data,total\u001b[38;5;241m=\u001b[39m\u001b[38;5;28mlen\u001b[39m(data)):\n\u001b[0;32m----> 4\u001b[0m     img_path\u001b[38;5;241m=\u001b[39m \u001b[38;5;124mf\u001b[39m\u001b[38;5;124m\"\u001b[39m\u001b[38;5;124m/media/Nas/数据集/celebA（分卷形式,一起解压）/celebA/img/img_align_celeba/\u001b[39m\u001b[38;5;132;01m{\u001b[39;00mx[\u001b[38;5;241m0\u001b[39m]\u001b[38;5;132;01m}\u001b[39;00m\u001b[38;5;124m\"\u001b[39m\n\u001b[1;32m      5\u001b[0m     \u001b[38;5;28;01mif\u001b[39;00m \u001b[38;5;129;01mnot\u001b[39;00m os\u001b[38;5;241m.\u001b[39mpath\u001b[38;5;241m.\u001b[39mexists(img_path):\n\u001b[1;32m      6\u001b[0m         error\u001b[38;5;241m+\u001b[39m\u001b[38;5;241m=\u001b[39m\u001b[38;5;241m1\u001b[39m\n",
      "\u001b[0;31mIndexError\u001b[0m: list index out of range"
     ]
    }
   ],
   "source": [
    "import tqdm\n",
    "error = 0\n",
    "for x in tqdm.tqdm(data,total=len(data)):\n",
    "    if x:\n",
    "        img_path= f\"/media/Nas/数据集/celebA（分卷形式,一起解压）/celebA/img/img_align_celeba/{x[0]}\"\n",
    "        if not os.path.exists(img_path):\n",
    "            error+=1\n",
    "error"
   ]
  },
  {
   "cell_type": "code",
   "execution_count": 12,
   "id": "c220084f-b710-4fa6-b638-003dcdd7146d",
   "metadata": {},
   "outputs": [
    {
     "name": "stderr",
     "output_type": "stream",
     "text": [
      "100%|█████████▉| 160751/160752 [16:34:10<00:00,  2.69it/s]   \n"
     ]
    },
    {
     "ename": "ValueError",
     "evalue": "not enough values to unpack (expected 2, got 0)",
     "output_type": "error",
     "traceback": [
      "\u001b[0;31m---------------------------------------------------------------------------\u001b[0m",
      "\u001b[0;31mValueError\u001b[0m                                Traceback (most recent call last)",
      "Cell \u001b[0;32mIn[12], line 13\u001b[0m\n\u001b[1;32m     10\u001b[0m     h \u001b[38;5;241m=\u001b[39m rect\u001b[38;5;241m.\u001b[39mbottom() \u001b[38;5;241m-\u001b[39m y\n\u001b[1;32m     11\u001b[0m     \u001b[38;5;28;01mreturn\u001b[39;00m (x, y, w, h)\n\u001b[0;32m---> 13\u001b[0m \u001b[38;5;28;01mfor\u001b[39;00m img_name,index \u001b[38;5;129;01min\u001b[39;00m tqdm\u001b[38;5;241m.\u001b[39mtqdm(data[\u001b[38;5;241m41848\u001b[39m:],total \u001b[38;5;241m=\u001b[39m \u001b[38;5;28mlen\u001b[39m(data[\u001b[38;5;241m41848\u001b[39m:])):\n\u001b[1;32m     14\u001b[0m     image_file \u001b[38;5;241m=\u001b[39m \u001b[38;5;124mf\u001b[39m\u001b[38;5;124m\"\u001b[39m\u001b[38;5;124m/media/Nas/数据集/celebA（分卷形式,一起解压）/celebA/img/img_align_celeba/\u001b[39m\u001b[38;5;132;01m{\u001b[39;00mimg_name\u001b[38;5;132;01m}\u001b[39;00m\u001b[38;5;124m\"\u001b[39m\n\u001b[1;32m     15\u001b[0m     detector \u001b[38;5;241m=\u001b[39m dlib\u001b[38;5;241m.\u001b[39mget_frontal_face_detector()\n",
      "\u001b[0;31mValueError\u001b[0m: not enough values to unpack (expected 2, got 0)"
     ]
    }
   ],
   "source": [
    "from PIL import Image\n",
    "import tqdm\n",
    "from IPython.display import display\n",
    "import random\n",
    "\n",
    "def rect_to_bb(rect): # 获得人脸矩形的坐标信息\n",
    "    x = rect.left()\n",
    "    y = rect.top()\n",
    "    w = rect.right() - x\n",
    "    h = rect.bottom() - y\n",
    "    return (x, y, w, h)\n",
    "\n",
    "for img_name,index in tqdm.tqdm(data[41848:],total = len(data[41848:])):\n",
    "    image_file = f\"/media/Nas/数据集/celebA（分卷形式,一起解压）/celebA/img/img_align_celeba/{img_name}\"\n",
    "    detector = dlib.get_frontal_face_detector()\n",
    "    image = np.array(Image.open(image_file))[...,::-1]\n",
    "    try:\n",
    "        gray = cv2.cvtColor(image, cv2.COLOR_BGR2GRAY)\n",
    "        rects = detector(gray, 1)\n",
    "        if len(rects) ==1:\n",
    "            rect = rects[0]\n",
    "            (x, y, w, h) = rect_to_bb(rect)\n",
    "            image = image[y:y+h, x:x+w]\n",
    "            img = Image.fromarray(image[...,::-1])\n",
    "            if random.random()>0.8:\n",
    "                if not os.path.exists(f\"data/val/{index}/\"):\n",
    "                    os.mkdir(f\"data/val/{index}/\")\n",
    "                img.save(f\"data/val/{index}/{img_name}\")\n",
    "            else:\n",
    "                if not os.path.exists(f\"data/train/{index}/\"):\n",
    "                    os.mkdir(f\"data/train/{index}/\")\n",
    "                img.save(f\"data/train/{index}/{img_name}\")\n",
    "    except:\n",
    "        pass\n",
    "    \n",
    "\n",
    "\n"
   ]
  },
  {
   "cell_type": "code",
   "execution_count": null,
   "id": "47d737ce-d154-4165-b4f4-bd0c12a8a927",
   "metadata": {},
   "outputs": [],
   "source": []
  }
 ],
 "metadata": {
  "kernelspec": {
   "display_name": "base",
   "language": "python",
   "name": "base"
  },
  "language_info": {
   "codemirror_mode": {
    "name": "ipython",
    "version": 3
   },
   "file_extension": ".py",
   "mimetype": "text/x-python",
   "name": "python",
   "nbconvert_exporter": "python",
   "pygments_lexer": "ipython3",
   "version": "3.9.5"
  }
 },
 "nbformat": 4,
 "nbformat_minor": 5
}
